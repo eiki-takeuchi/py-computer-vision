{
 "cells": [
  {
   "cell_type": "markdown",
   "metadata": {},
   "source": [
    "# Google Vision API Usage\n",
    "\n",
    "## Prerequiste Knowledge\n",
    "\n",
    "### Google Coud Client Libraries\n",
    "\n",
    "Google Cloud Client Libraries provide authentication, authorization, and accessing each service programmatically. It generates HTTP or RPC requests that call Google Cloud Services.\n",
    "\n",
    "[Google Cloud Client Libraries](https://cloud.google.com/apis/docs/cloud-client-libraries)\n",
    "\n",
    "[Client Libraries Explained](https://cloud.google.com/apis/docs/client-libraries-explained)\n",
    "\n",
    "[Google Cloud Client Libraries: Github](https://github.com/googleapis/google-cloud-python)\n",
    "\n",
    "### Service Account\n",
    "Service Account is a special type of account that represent non-human user. It is equivalent to \"role\" in AWS. \n",
    "\n",
    "[Understanding service account](https://cloud.google.com/iam/docs/understanding-service-accounts)\n",
    "\n",
    "# Installation\n",
    "\n",
    "Install google-cloud-vision package. \n",
    "\n",
    "$ pip install google-cloud-vision\n",
    "\n",
    "### Sample code reference\n",
    "https://googleapis.dev/python/vision/latest/index.html"
   ]
  },
  {
   "cell_type": "code",
   "execution_count": 25,
   "metadata": {},
   "outputs": [],
   "source": [
    "from google.cloud import vision\n",
    "import pandas as pd\n",
    "import seaborn as sns\n",
    "from google.cloud import storage\n",
    "\n",
    "# Set Parameters\n",
    "IMAGE_INDEX = 1\n",
    "\n",
    "# Get images from google cloud storage. \n",
    "def storage():\n",
    "    bucket_name = \"vision-ai-experimentation\"\n",
    "    storage_client = storage.Client()\n",
    "    bucket_gs_link = \"gs://vision-ai-experimentation/\"\n",
    "\n",
    "    blobs = storage_client.list_blobs(bucket_name, prefix=\"images\")\n",
    "\n",
    "    image_links = []\n",
    "    for blob in blobs:\n",
    "        if blob.name.endswith(\".jpeg\"): \n",
    "            image_gs_link = bucket_gs_link + blob.name\n",
    "            image_links.append(image_gs_link)\n"
   ]
  },
  {
   "cell_type": "code",
   "execution_count": null,
   "metadata": {},
   "outputs": [],
   "source": [
    "## What is Google Vision API\n",
    "\n",
    "Google Vision API is one of the Google Cloud Services that provides computer vision "
   ]
  },
  {
   "cell_type": "code",
   "execution_count": 26,
   "metadata": {},
   "outputs": [
    {
     "name": "stdout",
     "output_type": "stream",
     "text": [
      "<class 'google.cloud.vision_v1.types.AnnotateImageResponse'>\n",
      "[('Cat', 0.9959855675697327), ('Mammal', 0.975814163684845)]\n"
     ]
    },
    {
     "data": {
      "image/png": "[encoded data removed]",
      "text/plain": [
       "<Figure size 432x288 with 1 Axes>"
      ]
     },
     "metadata": {},
     "output_type": "display_data"
    }
   ],
   "source": [
    "def vision_client():\n",
    "    \"\"\"Create vision client.\"\"\"\n",
    "    return vision.ImageAnnotatorClient()\n",
    "\n",
    "    \n",
    "def annotate_image(vision_client, image_uri, log=False):\n",
    "    \"\"\"\n",
    "    \n",
    "    Arguments\n",
    "    ---------\n",
    "    vision_client : GCP vision client. \n",
    "    image_uri     : str\n",
    "        Call vision API.\n",
    "        Image resource can be specified only in 3 ways. \n",
    "        1. Google Storage\n",
    "        2. base64 data.\n",
    "        3. HTTP uri. \n",
    "    \"\"\"\n",
    "\n",
    "    response = client.annotate_image({\n",
    "      'image': {\n",
    "          'source': {\n",
    "              'image_uri': image_uri\n",
    "          }\n",
    "      }\n",
    "    })\n",
    "    \n",
    "    if log:\n",
    "        print(\"response : \", response)\n",
    "        \n",
    "    return response\n",
    "\n",
    "\n",
    "def visualization(response):\n",
    "\n",
    "    # Preprocessing for visualization. \n",
    "    descriptions = []\n",
    "    scores = []\n",
    "    for label in response.label_annotations:\n",
    "        descriptions.append(label.description)\n",
    "        scores.append(label.score)\n",
    "\n",
    "    dic = {\"description\": descriptions, \"score\": scores}\n",
    "\n",
    "    # Visualization with seaborn. \n",
    "    sns.set(style=\"whitegrid\")\n",
    "    tips = sns.load_dataset(\"tips\")\n",
    "    sns.barplot(y=\"description\", x=\"score\", data=dic)\n",
    "    \n",
    "def extract(response, num=1):\n",
    "    \"\"\"Extract top confident annotations.\n",
    "    \n",
    "    Arguments\n",
    "    ---------\n",
    "    response : google.cloud.vision_v1.types.AnnotateImageResponse\n",
    "    num      : int\n",
    "    \n",
    "    Return\n",
    "    ------\n",
    "    top_annotations : tuple list (description, confidence)\n",
    "    \"\"\"\n",
    "    print(type(response))\n",
    "    top_annotations = []\n",
    "    for label in response.label_annotations[:num]:\n",
    "        t = (label.description, label.score)\n",
    "        top_annotations.append(t)\n",
    "        \n",
    "    return top_annotations\n",
    "\n",
    "if __name__ == \"__main__\":\n",
    "    client = vision_client()\n",
    "    \n",
    "    image_uri = \"https://ichef.bbci.co.uk/news/320/cpsprodpb/AAE7/production/_111515734_gettyimages-1208779325.jpg\"\n",
    "    response = annotate_image(vision_client=client, image_uri=image_uri)\n",
    "    \n",
    "    visualization(response)\n",
    "    \n",
    "    r = extract(response, num=2)\n",
    "    print(r)"
   ]
  },
  {
   "cell_type": "code",
   "execution_count": null,
   "metadata": {},
   "outputs": [],
   "source": []
  }
 ],
 "metadata": {
  "kernelspec": {
   "display_name": "Python 3",
   "language": "python",
   "name": "python3"
  },
  "language_info": {
   "codemirror_mode": {
    "name": "ipython",
    "version": 3
   },
   "file_extension": ".py",
   "mimetype": "text/x-python",
   "name": "python",
   "nbconvert_exporter": "python",
   "pygments_lexer": "ipython3",
   "version": "3.8.0"
  }
 },
 "nbformat": 4,
 "nbformat_minor": 4
}
