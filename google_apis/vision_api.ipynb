{
 "cells": [
  {
   "cell_type": "markdown",
   "metadata": {},
   "source": [
    "# Google Vision API Usage\n",
    "\n",
    "## Prerequiste Knowledge\n",
    "\n",
    "### Google Coud Client Libraries\n",
    "\n",
    "Google Cloud Client Libraries provide authentication, authorization, and accessing each services programatically. It generates HTTP or RPC requests that manipulates Google Cloud Services. \n",
    "https://cloud.google.com/apis/docs/cloud-client-libraries\n",
    "\n",
    "Client Libraries Explained\n",
    "https://cloud.google.com/apis/docs/client-libraries-explained\n",
    "\n",
    "google-cloud-python:github\n",
    "Google Cloud Client Libraries in Python implementation. \n",
    "https://github.com/googleapis/google-cloud-python\n",
    "\n",
    "### Service Account\n",
    "Service Account is a special type of account that represent non-human user. It is equivalent to role in AWS. \n",
    "\n",
    "https://cloud.google.com/iam/docs/understanding-service-accounts\n",
    "\n",
    "# Installation\n",
    "\n",
    "Install google-cloud-vision package. \n",
    "\n",
    "$ pip install google-cloud-vision\n",
    "\n",
    "### Sample code reference\n",
    "https://googleapis.dev/python/vision/latest/index.html"
   ]
  },
  {
   "cell_type": "code",
   "execution_count": 17,
   "metadata": {},
   "outputs": [
    {
     "name": "stdout",
     "output_type": "stream",
     "text": [
      "error {\n",
      "  code: 4\n",
      "  message: \"We can not access the URL currently. Please download the content and pass it in.\"\n",
      "}\n",
      "\n",
      "test\n"
     ]
    }
   ],
   "source": [
    "# pip install google-cloud-vision\n",
    "from google.cloud import vision\n",
    "\n",
    "client = vision.ImageAnnotatorClient()\n",
    "\n",
    "image_url = \"https://upload.wikimedia.org/wikipedia/commons/d/d9/Collage_of_Nine_Dogs.jpg\"\n",
    "#image_url = \"https://upload.wikimedia.org/wikipedia/commons/thumb/8/8d/President_Barack_Obama.jpg/960px-President_Barack_Obama.jpg\"\n",
    "\n",
    "# Image resource can be specified only in 3 ways. \n",
    "# 1. Google Storage\n",
    "# 2. base64 data.\n",
    "# 3. HTTP url. \n",
    "response = client.annotate_image({\n",
    "  'image': {'source': {'image_uri': image_url}},\n",
    "  #'features': [{\n",
    "  #    'type': vision.enums.Feature.Type.FACE_DETECTION,\n",
    "  #}],\n",
    "})\n",
    "\n",
    "print(response)\n",
    "print(\"test\")"
   ]
  },
  {
   "cell_type": "code",
   "execution_count": null,
   "metadata": {},
   "outputs": [],
   "source": []
  }
 ],
 "metadata": {
  "kernelspec": {
   "display_name": "Python 3",
   "language": "python",
   "name": "python3"
  },
  "language_info": {
   "codemirror_mode": {
    "name": "ipython",
    "version": 3
   },
   "file_extension": ".py",
   "mimetype": "text/x-python",
   "name": "python",
   "nbconvert_exporter": "python",
   "pygments_lexer": "ipython3",
   "version": "3.8.0"
  }
 },
 "nbformat": 4,
 "nbformat_minor": 4
}
