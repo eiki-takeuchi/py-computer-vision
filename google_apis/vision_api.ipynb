{
 "cells": [
  {
   "cell_type": "markdown",
   "metadata": {},
   "source": [
    "# Google Vision API Usage\n",
    "\n",
    "## Prerequiste Knowledge\n",
    "\n",
    "### Google Coud Client Libraries\n",
    "\n",
    "Google Cloud Client Libraries provide authentication, authorization, and accessing each service programmatically. It generates HTTP or RPC requests that call Google Cloud Services.\n",
    "\n",
    "[Google Cloud Client Libraries](https://cloud.google.com/apis/docs/cloud-client-libraries)\n",
    "\n",
    "[Client Libraries Explained](https://cloud.google.com/apis/docs/client-libraries-explained)\n",
    "\n",
    "[Google Cloud Client Libraries: Github](https://github.com/googleapis/google-cloud-python)\n",
    "\n",
    "### Service Account\n",
    "Service Account is a special type of account that represent non-human user. It is equivalent to \"role\" in AWS. \n",
    "\n",
    "[Understanding service account](https://cloud.google.com/iam/docs/understanding-service-accounts)\n",
    "\n",
    "# Installation\n",
    "\n",
    "Install google-cloud-vision package. \n",
    "\n",
    "$ pip install google-cloud-vision\n",
    "\n",
    "### Sample code reference\n",
    "https://googleapis.dev/python/vision/latest/index.html"
   ]
  },
  {
   "cell_type": "code",
   "execution_count": 10,
   "metadata": {},
   "outputs": [
    {
     "data": {
      "text/plain": [
       "<matplotlib.axes._subplots.AxesSubplot at 0x11946e370>"
      ]
     },
     "execution_count": 10,
     "metadata": {},
     "output_type": "execute_result"
    },
    {
     "data": {
      "image/png": "[encoded data removed]",
      "text/plain": [
       "<Figure size 432x288 with 1 Axes>"
      ]
     },
     "metadata": {},
     "output_type": "display_data"
    }
   ],
   "source": [
    "from google.cloud import vision\n",
    "import pandas as pd\n",
    "import seaborn as sns\n",
    "\n",
    "client = vision.ImageAnnotatorClient()\n",
    "\n",
    "images = [\n",
    "    \"https://upload.wikimedia.org/wikipedia/commons/d/d9/Collage_of_Nine_Dogs.jpg\",\n",
    "    \"https://upload.wikimedia.org/wikipedia/commons/thumb/8/8d/President_Barack_Obama.jpg/960px-President_Barack_Obama.jpg\"\n",
    "]\n",
    "\n",
    "# Call vision API.\n",
    "# Image resource can be specified only in 3 ways. \n",
    "# 1. Google Storage\n",
    "# 2. base64 data.\n",
    "# 3. HTTP url. \n",
    "response = client.annotate_image({\n",
    "  'image': {'source': {'image_uri': images[0]}}\n",
    "})\n",
    "\n",
    "# Preprocessing for visualization. \n",
    "descriptions = []\n",
    "scores = []\n",
    "for label in response.label_annotations:\n",
    "    descriptions.append(label.description)\n",
    "    scores.append(label.score)\n",
    "    \n",
    "dic = {\"description\": descriptions, \"score\": scores}\n",
    "\n",
    "# Visualization with seaborn. \n",
    "sns.set(style=\"whitegrid\")\n",
    "tips = sns.load_dataset(\"tips\")\n",
    "sns.barplot(y=\"description\", x=\"score\", data=dic)"
   ]
  },
  {
   "cell_type": "code",
   "execution_count": null,
   "metadata": {},
   "outputs": [],
   "source": []
  }
 ],
 "metadata": {
  "kernelspec": {
   "display_name": "Python 3",
   "language": "python",
   "name": "python3"
  },
  "language_info": {
   "codemirror_mode": {
    "name": "ipython",
    "version": 3
   },
   "file_extension": ".py",
   "mimetype": "text/x-python",
   "name": "python",
   "nbconvert_exporter": "python",
   "pygments_lexer": "ipython3",
   "version": "3.8.0"
  }
 },
 "nbformat": 4,
 "nbformat_minor": 4
}
