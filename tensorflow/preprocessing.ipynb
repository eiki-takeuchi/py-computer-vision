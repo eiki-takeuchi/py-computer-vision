{
 "cells": [
  {
   "cell_type": "markdown",
   "metadata": {},
   "source": [
    "# Preprocessing"
   ]
  },
  {
   "cell_type": "code",
   "execution_count": 1,
   "metadata": {},
   "outputs": [],
   "source": [
    "IMG_SIZE = 160 # All images will be resized to 160x160\n",
    "\n",
    "def format_image(image, label):\n",
    "    \"\"\"Formatting image raw data.\"\"\"\n",
    "    image = tf.cast(image, tf.float32) # Casting to tensor data type.\n",
    "    image = (image/127.5) - 1\n",
    "    image = tf.image.resize(image, (IMG_SIZE, IMG_SIZE)) # Resize image.\n",
    "    return image, label\n",
    "\n",
    "\n",
    "def formatting(dataset, img_size=160, batch_size=32, shuffle_buffer_size=1000, log=False):\n",
    "    \"\"\"Formatting image processing data. \n",
    "    \n",
    "    Arguments\n",
    "    ---------\n",
    "    dataset             : tf.data.Dataset\n",
    "    img_size            : int\n",
    "    batch_size          : int\n",
    "    shuffle_buffer_size : int\n",
    "    \n",
    "    Return\n",
    "    ------\n",
    "    image_batch : class tensorflow.python.framework.ops.EagerTensor\n",
    "    train_batch : class tensorflow.python.framework.ops.EagerTensor\n",
    "\n",
    "    Example\n",
    "    -------\n",
    "    (raw_train, raw_validation, raw_test), metadata = tfds.load(\n",
    "        'cats_vs_dogs',\n",
    "        split=['train[:80%]', 'train[80%:90%]', 'train[90%:]'],\n",
    "        with_info=True,\n",
    "        as_supervised=True,\n",
    "    )\n",
    "    formatting(dataset=raw_train, img_size=160, batch_size=32, shuffle_buffer_size=1000)\n",
    "    \"\"\"\n",
    "    \n",
    "    # Each data in dataset has to be formatted in 160x160 image. \n",
    "    # as it is defined in tf.keras.applications.MobileNetV2 input shape = 160. \n",
    "    def format_example(image, label):\n",
    "        image = tf.cast(image, tf.float32)\n",
    "        image = (image/127.5) - 1\n",
    "        image = tf.image.resize(image, (img_size, img_size))\n",
    "        return image, label\n",
    "\n",
    "    # Apply above function to each data in dataset. \n",
    "    # map function apply given function in each data. \n",
    "    train = dataset.map(format_example)\n",
    "    if log:\n",
    "        print(\"train : \", train)\n",
    "\n",
    "    # This process extract ramdam data and slices in small batches. \n",
    "    # *Noted: After the batch(), data shape will be different from (160, 160, 3) to (None, 160, 160, 3)\n",
    "    train_batches = train.shuffle(shuffle_buffer_size).batch(batch_size)\n",
    "    if log:\n",
    "        print(\"train_batches : \", train_batches)\n",
    "    \n",
    "    # Get one batch size. \n",
    "    for image_batch, label_batch in train_batches.take(1):\n",
    "        pass\n",
    "    \n",
    "    if log:\n",
    "        print(\"image_batch : \", image_batch.shape)\n",
    "        print(\"label_batch : \", label_batch.shape)\n",
    "        print(type(image_batch), type(label_batch))\n",
    "        \n",
    "    return image_batch, label_batch\n"
   ]
  },
  {
   "cell_type": "code",
   "execution_count": null,
   "metadata": {},
   "outputs": [],
   "source": []
  }
 ],
 "metadata": {
  "kernelspec": {
   "display_name": "Python 3",
   "language": "python",
   "name": "python3"
  },
  "language_info": {
   "codemirror_mode": {
    "name": "ipython",
    "version": 3
   },
   "file_extension": ".py",
   "mimetype": "text/x-python",
   "name": "python",
   "nbconvert_exporter": "python",
   "pygments_lexer": "ipython3",
   "version": "3.8.0"
  }
 },
 "nbformat": 4,
 "nbformat_minor": 4
}
