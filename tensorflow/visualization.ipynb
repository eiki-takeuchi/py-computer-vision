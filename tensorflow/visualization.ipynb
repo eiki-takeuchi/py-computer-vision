{
 "cells": [
  {
   "cell_type": "markdown",
   "metadata": {},
   "source": [
    "# Visualization"
   ]
  },
  {
   "cell_type": "code",
   "execution_count": null,
   "metadata": {},
   "outputs": [],
   "source": [
    "def display_dataset_image(raw_train, metadata):\n",
    "    \"\"\"Display image dataset.\n",
    "    \n",
    "    Arguments\n",
    "    ---------\n",
    "    raw_train : tf.data.Dataset\n",
    "    metadata  : \n",
    "        infor data extracted when creating dataset.\n",
    "    \"\"\"\n",
    "    get_label_name = metadata.features[\"label\"].int2str\n",
    "    \n",
    "    for image, label in raw_train.take(2):\n",
    "        plt.figure()\n",
    "        plt.imshow(image)\n",
    "        plt.title(get_label_name(label))"
   ]
  }
 ],
 "metadata": {
  "kernelspec": {
   "display_name": "Python 3",
   "language": "python",
   "name": "python3"
  },
  "language_info": {
   "codemirror_mode": {
    "name": "ipython",
    "version": 3
   },
   "file_extension": ".py",
   "mimetype": "text/x-python",
   "name": "python",
   "nbconvert_exporter": "python",
   "pygments_lexer": "ipython3",
   "version": "3.8.0"
  }
 },
 "nbformat": 4,
 "nbformat_minor": 4
}
